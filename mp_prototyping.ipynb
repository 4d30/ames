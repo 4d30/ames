{
 "cells": [
  {
   "cell_type": "code",
   "execution_count": 1,
   "metadata": {},
   "outputs": [],
   "source": [
    "# In the first Python interactive shell\n",
    "from os import cpu_count\n",
    "import numpy as np\n",
    "a = np.random.random(int(1e6)-1)*100  # Start with an existing NumPy array\n",
    "\n",
    "from multiprocessing import shared_memory, Process\n",
    "shm = shared_memory.SharedMemory(create=True, size=a.nbytes)\n",
    "# Now create a NumPy array backed by shared memory\n",
    "b = np.ndarray(a.shape, dtype=a.dtype, buffer=shm.buf)\n",
    "b[:] = a[:]  # Copy the original data into shared memory\n",
    "#b"
   ]
  },
  {
   "cell_type": "code",
   "execution_count": 2,
   "metadata": {},
   "outputs": [
    {
     "data": {
      "text/plain": [
       "array([92.85026762, 25.78493521, 18.58754435, ..., 17.50811649,\n",
       "       62.76084201, 47.64986271])"
      ]
     },
     "execution_count": 2,
     "metadata": {},
     "output_type": "execute_result"
    }
   ],
   "source": [
    "shm.name\n",
    "b"
   ]
  },
  {
   "cell_type": "code",
   "execution_count": 3,
   "metadata": {},
   "outputs": [],
   "source": [
    "def divide_work(ARRAY):\n",
    "    n_cpus = cpu_count()\n",
    "    job_len = np.floor(ARRAY.shape[0]/n_cpus)\n",
    "    work_schedule = np.zeros((n_cpus,2), dtype=np.longlong) # [(start_position),(job_length)]\n",
    "    for i in range(0,n_cpus):\n",
    "        distance = i*job_len\n",
    "        work_schedule[i,0] =  distance \n",
    "        if i != (n_cpus - 1): # The length of the last job is dynamic \n",
    "            work_schedule[i,1] = job_len\n",
    "        else:\n",
    "            work_schedule[i,1] = ARRAY.shape[0] - distance\n",
    "    return work_schedule"
   ]
  },
  {
   "cell_type": "code",
   "execution_count": 4,
   "metadata": {},
   "outputs": [
    {
     "data": {
      "text/plain": [
       "array([[     0, 249999],\n",
       "       [249999, 249999],\n",
       "       [499998, 249999],\n",
       "       [749997, 250002]], dtype=int64)"
      ]
     },
     "execution_count": 4,
     "metadata": {},
     "output_type": "execute_result"
    }
   ],
   "source": [
    "job_list = divide_work(b)\n",
    "job_list"
   ]
  },
  {
   "cell_type": "code",
   "execution_count": 6,
   "metadata": {},
   "outputs": [],
   "source": [
    "def is_even(ARRAY,OUTPUT):\n",
    "    for i in range(len(ARRAY)):   \n",
    "        if (np.round(ARRAY[i]) % 2) == 0.0:\n",
    "            OUTPUT[i] = 1\n",
    "        else:\n",
    "            OUTPUT[i] = 0\n",
    "\n",
    "def assign_work(INPUT_ARRAY, TASK, WORK_SCHEDULE, OUTPUT):\n",
    "    processes = []\n",
    "    for i in range(len(WORK_SCHEDULE)):\n",
    "        print(f'start {i}')\n",
    "        position = WORK_SCHEDULE[i,0]\n",
    "        magnitude = WORK_SCHEDULE[i,1]\n",
    "        jobslice = INPUT_ARRAY[position:int(position+magnitude)]\n",
    "        jobslice_str = str(jobslice)\n",
    "        outslice = OUTPUT[position:int(position+magnitude)]\n",
    "        print(jobslice_str)\n",
    "        p = Process(target=is_even, args=(jobslice,outslice))\n",
    "        processes.append(p)\n",
    "        p.start()\n",
    "    for i in range(len(WORK_SCHEDULE)):\n",
    "        print(f'join {i}')\n",
    "        processes[i].join()"
   ]
  },
  {
   "cell_type": "code",
   "execution_count": 7,
   "metadata": {},
   "outputs": [
    {
     "name": "stdout",
     "output_type": "stream",
     "text": [
      "start 0\n",
      "[92.85026762 25.78493521 18.58754435 ... 97.69429102 49.57606766\n",
      " 76.58180629]\n",
      "start 1\n",
      "[57.98520219 47.0363109  46.14228652 ... 34.55737148 56.28191419\n",
      " 16.37358923]\n",
      "start 2\n",
      "[29.88175353 85.65194254 41.39741925 ... 59.29121039 48.84750195\n",
      " 10.09974622]\n",
      "start 3\n",
      "[84.75808106 95.44707419  2.04180107 ... 17.50811649 62.76084201\n",
      " 47.64986271]\n",
      "join 0\n",
      "join 1\n",
      "join 2\n",
      "join 3\n"
     ]
    }
   ],
   "source": [
    "if __name__ == '__main__':\n",
    "    assign_work(a,is_even,job_list,b)"
   ]
  },
  {
   "cell_type": "code",
   "execution_count": 20,
   "metadata": {},
   "outputs": [
    {
     "name": "stdout",
     "output_type": "stream",
     "text": [
      "999999\n"
     ]
    },
    {
     "data": {
      "text/plain": [
       "array([1., 1., 1., ..., 1., 1., 0.])"
      ]
     },
     "execution_count": 20,
     "metadata": {},
     "output_type": "execute_result"
    }
   ],
   "source": [
    "print(len(b))\n",
    "b"
   ]
  },
  {
   "cell_type": "code",
   "execution_count": null,
   "metadata": {},
   "outputs": [],
   "source": []
  }
 ],
 "metadata": {
  "kernelspec": {
   "display_name": "Python 3",
   "language": "python",
   "name": "python3"
  },
  "language_info": {
   "codemirror_mode": {
    "name": "ipython",
    "version": 3
   },
   "file_extension": ".py",
   "mimetype": "text/x-python",
   "name": "python",
   "nbconvert_exporter": "python",
   "pygments_lexer": "ipython3",
   "version": "3.8.6"
  }
 },
 "nbformat": 4,
 "nbformat_minor": 4
}
